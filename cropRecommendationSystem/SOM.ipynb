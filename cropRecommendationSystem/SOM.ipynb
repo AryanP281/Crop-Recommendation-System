{
 "cells": [
  {
   "cell_type": "code",
   "execution_count": null,
   "id": "333972fb",
   "metadata": {},
   "outputs": [],
   "source": [
    "import numpy as np # linear algebra\n",
    "import pandas as pd # data processing, CSV file I/O (e.g. pd.read_csv)\n",
    "import matplotlib.pyplot as plt\n",
    "%matplotlib inline\n",
    "import seaborn as sns\n",
    "from IPython import get_ipython\n",
    "import warnings\n",
    "warnings.filterwarnings(\"ignore\")"
   ]
  },
  {
   "cell_type": "code",
   "execution_count": null,
   "id": "e834fb02",
   "metadata": {},
   "outputs": [],
   "source": [
    "cropData = pd.read_csv(\"agridata_csv_202110311352.csv\")\n",
    "cropData.head()"
   ]
  },
  {
   "cell_type": "code",
   "execution_count": null,
   "id": "5e47ccad",
   "metadata": {},
   "outputs": [],
   "source": [
    "cropData[\"commodity_name\"].str.startswith('Black').sum()\n",
    "bool_series = cropData[\"commodity_name\"].str.startswith('Black', na = False)\n",
    "cropData[bool_series]"
   ]
  },
  {
   "cell_type": "code",
   "execution_count": null,
   "id": "0334f49a",
   "metadata": {},
   "outputs": [],
   "source": [
    "##sand loam\n",
    "# df_new = df[df['Pid'] == 'p01']\n",
    "li = ['apple', 'muskmelon', 'papaya','pomegranate','watermelon']\n",
    "cropData_sl = cropData[cropData.label.isin(li)]\n",
    "cropData_a.describe()"
   ]
  },
  {
   "cell_type": "code",
   "execution_count": null,
   "id": "1fa82a1a",
   "metadata": {},
   "outputs": [],
   "source": [
    "x =[i for i in range(100)]\n",
    "y =cropData_sl[cropData_sl['label']=='pomegranate'].K\n",
    " \n",
    "plt.scatter(x, y, c =\"blue\")\n",
    " \n",
    "# To show the plot\n",
    "plt.show()"
   ]
  },
  {
   "cell_type": "code",
   "execution_count": null,
   "id": "31a212da",
   "metadata": {},
   "outputs": [],
   "source": [
    "##black\n",
    "li = ['cotton', 'grapes', 'maize','orange','rice']\n",
    "cropData_b = cropData[cropData.label.isin(li)]\n",
    "cropData_b"
   ]
  },
  {
   "cell_type": "code",
   "execution_count": null,
   "id": "6efe5bcd",
   "metadata": {},
   "outputs": [],
   "source": [
    "##yellow\n",
    "li = ['blackgram', 'chickpea', 'kidneybeans','lentil','maize','mango','mothbeans','mungbean','orange','pigeonpeas','rice']\n",
    "cropData_y = cropData[cropData.label.isin(li)]\n",
    "cropData_y"
   ]
  },
  {
   "cell_type": "code",
   "execution_count": null,
   "id": "5c3cd6d3",
   "metadata": {},
   "outputs": [],
   "source": [
    "##laterite\n",
    "li = ['coconut', 'coffee']\n",
    "cropData_l = cropData[cropData.label.isin(li)]\n",
    "cropData_l"
   ]
  },
  {
   "cell_type": "code",
   "execution_count": null,
   "id": "86588565",
   "metadata": {},
   "outputs": [],
   "source": [
    "##Peat\n",
    "li = ['blackgram', 'chickpea', 'kidneybeans','lentil','mothbeans','mungbean','pigeonpeas']\n",
    "cropData_p = cropData[cropData.label.isin(li)]\n",
    "cropData_p"
   ]
  },
  {
   "cell_type": "code",
   "execution_count": null,
   "id": "0edf45a9",
   "metadata": {},
   "outputs": [],
   "source": [
    "##alluvial\n",
    "##yellow\n",
    "li = ['banana', 'jute']\n",
    "cropData_a = cropData[cropData.label.isin(li)]\n",
    "cropData_a"
   ]
  },
  {
   "cell_type": "code",
   "execution_count": null,
   "id": "886520fd",
   "metadata": {},
   "outputs": [],
   "source": [
    "k={0: 7750, 1: 1200, 2: 9000, 3: 9500, 4: 1550, 5: 11500, 6: 7245, 7: 5500, 8: 5800, 9: 4300, 10: 7400, 11: 3000, 12: 28250, 13: 11250, 14: 9300, 15: 2000, 16: 4750, 17: 2100, 18: 3700, 19: 11000, 20: 5150, 21: 1100}"
   ]
  },
  {
   "cell_type": "code",
   "execution_count": null,
   "id": "61fccbde",
   "metadata": {},
   "outputs": [],
   "source": [
    "i=[2,4,1]\n",
    "lst=[]\n",
    "for j in i:\n",
    "    lst.append(k[j])\n",
    "lst=[i/max(lst) for i in lst]\n",
    "lst"
   ]
  },
  {
   "cell_type": "code",
   "execution_count": null,
   "id": "ce1e5674",
   "metadata": {},
   "outputs": [],
   "source": [
    "res = dict(zip(i, lst))"
   ]
  },
  {
   "cell_type": "code",
   "execution_count": null,
   "id": "52476815",
   "metadata": {},
   "outputs": [],
   "source": [
    "res"
   ]
  },
  {
   "cell_type": "code",
   "execution_count": null,
   "id": "ec753ff2",
   "metadata": {},
   "outputs": [],
   "source": [
    "df=cropData.sample(3000)"
   ]
  },
  {
   "cell_type": "code",
   "execution_count": null,
   "id": "ccd1d12a",
   "metadata": {},
   "outputs": [],
   "source": [
    "df"
   ]
  },
  {
   "cell_type": "code",
   "execution_count": null,
   "id": "45e2f54a",
   "metadata": {},
   "outputs": [],
   "source": [
    "from sklearn_som.som import SOM"
   ]
  },
  {
   "cell_type": "code",
   "execution_count": null,
   "id": "de65cdb2",
   "metadata": {},
   "outputs": [],
   "source": [
    "pip install sklearn_som"
   ]
  },
  {
   "cell_type": "code",
   "execution_count": null,
   "id": "530cc487",
   "metadata": {},
   "outputs": [],
   "source": []
  },
  {
   "cell_type": "code",
   "execution_count": null,
   "id": "96280d0d",
   "metadata": {},
   "outputs": [],
   "source": [
    "y=df[['modal_price']]"
   ]
  },
  {
   "cell_type": "code",
   "execution_count": null,
   "id": "bef29728",
   "metadata": {},
   "outputs": [],
   "source": [
    "som = SOM(m=3, n=1, dim=3)\n",
    "som.fit(X)"
   ]
  },
  {
   "cell_type": "code",
   "execution_count": null,
   "id": "022c0958",
   "metadata": {},
   "outputs": [],
   "source": [
    "one_hot_encoded_data = pd.get_dummies(X, columns = ['commodity_name'])"
   ]
  },
  {
   "cell_type": "code",
   "execution_count": null,
   "id": "a06f0705",
   "metadata": {},
   "outputs": [],
   "source": []
  },
  {
   "cell_type": "code",
   "execution_count": null,
   "id": "d3d7033a",
   "metadata": {},
   "outputs": [],
   "source": [
    "som = SOM(m=3, n=2, dim=3)\n",
    "som.fit(X)"
   ]
  },
  {
   "cell_type": "code",
   "execution_count": null,
   "id": "0cff2498",
   "metadata": {},
   "outputs": [],
   "source": [
    "pip install GEMA"
   ]
  },
  {
   "cell_type": "code",
   "execution_count": null,
   "id": "08058ccc",
   "metadata": {},
   "outputs": [],
   "source": [
    "map_size = 3\n",
    "period = 10000 \n",
    "learning_rate = 0.1\n",
    "normalize_data = 'none'"
   ]
  },
  {
   "cell_type": "code",
   "execution_count": null,
   "id": "be3218a5",
   "metadata": {},
   "outputs": [],
   "source": [
    "import GEMA\n",
    "import numpy as np\n",
    "from sklearn import preprocessing"
   ]
  },
  {
   "cell_type": "code",
   "execution_count": null,
   "id": "dfe6806e",
   "metadata": {},
   "outputs": [],
   "source": [
    "pip install plotly"
   ]
  },
  {
   "cell_type": "code",
   "execution_count": null,
   "id": "a493bd11",
   "metadata": {},
   "outputs": [],
   "source": [
    "main_map = GEMA.Map(df, \n",
    "                    map_size, \n",
    "                    period, \n",
    "                    initial_lr=learning_rate, \n",
    "                    initial_neighbourhood = 0,\n",
    "                    distance = 'euclidean',\n",
    "                    use_decay= False,\n",
    "                    normalization = normalize_data,\n",
    "                    presentation= 'random',\n",
    "                    weights = 'random')"
   ]
  },
  {
   "cell_type": "code",
   "execution_count": null,
   "id": "ea4f1ab8",
   "metadata": {},
   "outputs": [],
   "source": [
    "crop=pd.read_csv('Crop Data New (1).csv')"
   ]
  },
  {
   "cell_type": "code",
   "execution_count": null,
   "id": "777d1e5e",
   "metadata": {},
   "outputs": [],
   "source": [
    "crop"
   ]
  },
  {
   "cell_type": "code",
   "execution_count": null,
   "id": "8a364265",
   "metadata": {},
   "outputs": [],
   "source": []
  }
 ],
 "metadata": {
  "kernelspec": {
   "display_name": "Python 3",
   "language": "python",
   "name": "python3"
  },
  "language_info": {
   "codemirror_mode": {
    "name": "ipython",
    "version": 3
   },
   "file_extension": ".py",
   "mimetype": "text/x-python",
   "name": "python",
   "nbconvert_exporter": "python",
   "pygments_lexer": "ipython3",
   "version": "3.8.8"
  }
 },
 "nbformat": 4,
 "nbformat_minor": 5
}
